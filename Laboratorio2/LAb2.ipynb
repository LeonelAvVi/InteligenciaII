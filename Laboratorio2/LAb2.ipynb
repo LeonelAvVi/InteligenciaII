{
  "nbformat": 4,
  "nbformat_minor": 0,
  "metadata": {
    "colab": {
      "name": "LAb2.ipynb",
      "provenance": []
    },
    "kernelspec": {
      "name": "python3",
      "display_name": "Python 3"
    },
    "language_info": {
      "name": "python"
    },
    "accelerator": "GPU"
  },
  "cells": [
    {
      "cell_type": "code",
      "execution_count": null,
      "metadata": {
        "id": "aEV-KTW4PwQI"
      },
      "outputs": [],
      "source": [
        "import torch\n",
        "\n",
        "import matplotlib.pyplot as plt\n",
        "from PIL import Image "
      ]
    },
    {
      "cell_type": "code",
      "source": [
        "from google.colab import drive\n",
        "drive.mount('/content/drive')"
      ],
      "metadata": {
        "colab": {
          "base_uri": "https://localhost:8080/"
        },
        "id": "s_3EfSf-QUw2",
        "outputId": "d2f9fe92-3f38-44ff-f7e4-bcd20e76a3df"
      },
      "execution_count": null,
      "outputs": [
        {
          "output_type": "stream",
          "name": "stdout",
          "text": [
            "Drive already mounted at /content/drive; to attempt to forcibly remount, call drive.mount(\"/content/drive\", force_remount=True).\n"
          ]
        }
      ]
    },
    {
      "cell_type": "code",
      "source": [
        "import shutil\n",
        "shutil.copy('/content/drive/MyDrive/inteligencia 2/laboratorio 2/dataTrainLab2.zip','ropa.zip')"
      ],
      "metadata": {
        "colab": {
          "base_uri": "https://localhost:8080/",
          "height": 35
        },
        "id": "WETf4X1nQlRi",
        "outputId": "4abf0293-29d9-4bc1-a48a-8885c1100151"
      },
      "execution_count": null,
      "outputs": [
        {
          "output_type": "execute_result",
          "data": {
            "text/plain": [
              "'ropa.zip'"
            ],
            "application/vnd.google.colaboratory.intrinsic+json": {
              "type": "string"
            }
          },
          "metadata": {},
          "execution_count": 3
        }
      ]
    },
    {
      "cell_type": "code",
      "source": [
        "shutil.copy('/content/drive/MyDrive/inteligencia 2/laboratorio 2/dataTestLAb2.zip','ropaTest.zip')"
      ],
      "metadata": {
        "colab": {
          "base_uri": "https://localhost:8080/",
          "height": 35
        },
        "id": "WOW7ThG7TzbM",
        "outputId": "7f78c921-c954-490a-f11e-1c0df950e970"
      },
      "execution_count": null,
      "outputs": [
        {
          "output_type": "execute_result",
          "data": {
            "text/plain": [
              "'ropaTest.zip'"
            ],
            "application/vnd.google.colaboratory.intrinsic+json": {
              "type": "string"
            }
          },
          "metadata": {},
          "execution_count": 4
        }
      ]
    },
    {
      "cell_type": "code",
      "source": [
        "shutil.unpack_archive('ropa.zip')"
      ],
      "metadata": {
        "id": "R6eQq5mrQ5cQ"
      },
      "execution_count": null,
      "outputs": []
    },
    {
      "cell_type": "code",
      "source": [
        "shutil.unpack_archive('ropaTest.zip')"
      ],
      "metadata": {
        "id": "FW5Ju6VPUHPI"
      },
      "execution_count": null,
      "outputs": []
    },
    {
      "cell_type": "code",
      "source": [
        "import os"
      ],
      "metadata": {
        "id": "Xhd-q2uQRH5z"
      },
      "execution_count": null,
      "outputs": []
    },
    {
      "cell_type": "code",
      "source": [
        "path_train ='/content/dataTrainLab2/'\n",
        "directorios_train = os.listdir(path_train)\n",
        "directorios_train"
      ],
      "metadata": {
        "colab": {
          "base_uri": "https://localhost:8080/"
        },
        "id": "aSdxr5JHRQ34",
        "outputId": "304cbf6d-40f1-4d34-c302-77880fa8ff58"
      },
      "execution_count": null,
      "outputs": [
        {
          "output_type": "execute_result",
          "data": {
            "text/plain": [
              "['suit', 'shoes', 'pants']"
            ]
          },
          "metadata": {},
          "execution_count": 8
        }
      ]
    },
    {
      "cell_type": "code",
      "source": [
        "labels_def = {'suit':0, 'shoes':1, 'pants':2}"
      ],
      "metadata": {
        "id": "tMn78iAARrA3"
      },
      "execution_count": null,
      "outputs": []
    },
    {
      "cell_type": "code",
      "source": [
        "import numpy as np"
      ],
      "metadata": {
        "id": "RqFwIVlbTQb8"
      },
      "execution_count": null,
      "outputs": []
    },
    {
      "cell_type": "code",
      "source": [
        "images_train = []\n",
        "labels_train = []\n",
        "for d in directorios_train:\n",
        "   imagenes = os.listdir(path_train + d)\n",
        "   for i in imagenes:\n",
        "       imgPath2 = path_train + d + '/' + i\n",
        "       img1 = Image.open(imgPath2)\n",
        "       new_img = img1.resize((32,32))\n",
        "       images_train.append(np.array(new_img)/255)\n",
        "       labels_train.append(labels_def[d])"
      ],
      "metadata": {
        "id": "xWbZR3ooR-PC"
      },
      "execution_count": null,
      "outputs": []
    },
    {
      "cell_type": "code",
      "source": [
        "path_test ='/content/dataTestLAb2/'\n",
        "directorios_test = os.listdir(path_test)\n",
        "directorios_test"
      ],
      "metadata": {
        "colab": {
          "base_uri": "https://localhost:8080/"
        },
        "id": "_oRtFkvOTq_r",
        "outputId": "4dca5ede-4e33-4508-e3ad-bc9598370937"
      },
      "execution_count": null,
      "outputs": [
        {
          "output_type": "execute_result",
          "data": {
            "text/plain": [
              "['suit', 'shoes', 'pants']"
            ]
          },
          "metadata": {},
          "execution_count": 12
        }
      ]
    },
    {
      "cell_type": "code",
      "source": [
        "images_test = []\n",
        "labels_test = []\n",
        "for d in directorios_test:\n",
        "   imagenes = os.listdir(path_test + d)\n",
        "   for i in imagenes:\n",
        "       imgPath2 = path_test + d + '/' + i\n",
        "       img1 = Image.open(imgPath2)\n",
        "       new_img = img1.resize((32,32))\n",
        "       images_test.append(np.array(new_img)/255)\n",
        "       labels_test.append(labels_def[d])"
      ],
      "metadata": {
        "id": "AtGkBPV_Uf8u"
      },
      "execution_count": null,
      "outputs": []
    },
    {
      "cell_type": "code",
      "source": [
        "X_train = np.asarray(images_train)\n",
        "y_train_ = np.asarray(labels_train) \n",
        "X_train.shape"
      ],
      "metadata": {
        "colab": {
          "base_uri": "https://localhost:8080/"
        },
        "id": "CVv-Dqk6VbQr",
        "outputId": "29f23e8c-dc39-43ed-d0ec-2674efffd8ec"
      },
      "execution_count": null,
      "outputs": [
        {
          "output_type": "execute_result",
          "data": {
            "text/plain": [
              "(7123, 32, 32, 3)"
            ]
          },
          "metadata": {},
          "execution_count": 14
        }
      ]
    },
    {
      "cell_type": "code",
      "source": [
        "X_test = np.asarray(images_test)\n",
        "y_test_ = np.asarray(labels_test) \n",
        "X_test.shape"
      ],
      "metadata": {
        "colab": {
          "base_uri": "https://localhost:8080/"
        },
        "id": "sYpzyqL8dsLH",
        "outputId": "0ddf6db3-0106-4ede-8f75-abf53c337b9c"
      },
      "execution_count": null,
      "outputs": [
        {
          "output_type": "execute_result",
          "data": {
            "text/plain": [
              "(30, 32, 32, 3)"
            ]
          },
          "metadata": {},
          "execution_count": 15
        }
      ]
    },
    {
      "cell_type": "code",
      "source": [
        "def getText(label):\n",
        "    for key in labels_def:\n",
        "      if labels_def[key] == label:\n",
        "        print(key)\n",
        "\n",
        "def printImage(imageId):\n",
        "  label = y_train_ [imageId]\n",
        "  plt.imshow(X_train[imageId])\n",
        "  getText(label)\n",
        "printImage(800)"
      ],
      "metadata": {
        "colab": {
          "base_uri": "https://localhost:8080/",
          "height": 283
        },
        "id": "kQygCTdAWJRu",
        "outputId": "4ec9b64c-84ea-4630-8306-53f5db51bb78"
      },
      "execution_count": null,
      "outputs": [
        {
          "output_type": "stream",
          "name": "stdout",
          "text": [
            "suit\n"
          ]
        },
        {
          "output_type": "display_data",
          "data": {
            "text/plain": [
              "<Figure size 432x288 with 1 Axes>"
            ],
            "image/png": "[encoded data removed]"
          },
          "metadata": {
            "needs_background": "light"
          }
        }
      ]
    },
    {
      "cell_type": "code",
      "source": [
        "dims = X_train.shape[1] * X_train.shape[2] * X_train.shape[3]\n",
        "X_train = X_train.reshape(X_train.shape[0], dims)\n",
        "X_train"
      ],
      "metadata": {
        "colab": {
          "base_uri": "https://localhost:8080/"
        },
        "id": "UNL8GqyaYirg",
        "outputId": "fff7b911-5326-4a12-d896-f754eb27790f"
      },
      "execution_count": null,
      "outputs": [
        {
          "output_type": "execute_result",
          "data": {
            "text/plain": [
              "array([[1., 1., 1., ..., 1., 1., 1.],\n",
              "       [1., 1., 1., ..., 1., 1., 1.],\n",
              "       [1., 1., 1., ..., 1., 1., 1.],\n",
              "       ...,\n",
              "       [0., 0., 0., ..., 0., 0., 0.],\n",
              "       [0., 0., 0., ..., 0., 0., 0.],\n",
              "       [0., 0., 0., ..., 0., 0., 0.]])"
            ]
          },
          "metadata": {},
          "execution_count": 17
        }
      ]
    },
    {
      "cell_type": "code",
      "source": [
        "X_train.shape"
      ],
      "metadata": {
        "colab": {
          "base_uri": "https://localhost:8080/"
        },
        "id": "xk-38T96fWq9",
        "outputId": "4556c671-4cee-4229-cf01-40c491adaa28"
      },
      "execution_count": null,
      "outputs": [
        {
          "output_type": "execute_result",
          "data": {
            "text/plain": [
              "(7123, 3072)"
            ]
          },
          "metadata": {},
          "execution_count": 18
        }
      ]
    },
    {
      "cell_type": "code",
      "source": [
        "dimsTest = X_test.shape[1] * X_test.shape[2] * X_test.shape[3]\n",
        "X_test = X_test.reshape(X_test.shape[0], dimsTest)\n",
        "X_test"
      ],
      "metadata": {
        "colab": {
          "base_uri": "https://localhost:8080/"
        },
        "id": "sOajEofVd8K4",
        "outputId": "e8f6fdfc-ab03-459d-de99-61b8b212044d"
      },
      "execution_count": null,
      "outputs": [
        {
          "output_type": "execute_result",
          "data": {
            "text/plain": [
              "array([[1., 1., 1., ..., 1., 1., 1.],\n",
              "       [1., 1., 1., ..., 1., 1., 1.],\n",
              "       [1., 1., 1., ..., 1., 1., 1.],\n",
              "       ...,\n",
              "       [0., 0., 0., ..., 0., 0., 0.],\n",
              "       [1., 1., 1., ..., 1., 1., 1.],\n",
              "       [0., 0., 0., ..., 0., 0., 0.]])"
            ]
          },
          "metadata": {},
          "execution_count": 19
        }
      ]
    },
    {
      "cell_type": "code",
      "source": [
        "# creamos una clase que hereda de `torch.nn.Module`\n",
        "\n",
        "class Model(torch.nn.Module):\n",
        "    \n",
        "    # constructor\n",
        "    def __init__(self, D_in, H, D_out):\n",
        "        \n",
        "        # llamamos al constructor de la clase madre\n",
        "        super(Model, self).__init__()\n",
        "        \n",
        "        # definimos nuestras capas\n",
        "        self.fc1 = torch.nn.Linear(D_in, H)\n",
        "        self.relu = torch.nn.ReLU()\n",
        "        self.fc2 = torch.nn.Linear(H, D_out)\n",
        "        \n",
        "    # lógica para calcular las salidas de la red\n",
        "    def forward(self, x):\n",
        "        x = self.fc1(x)\n",
        "        x = self.relu(x)\n",
        "        x = self.fc2(x)\n",
        "        return x"
      ],
      "metadata": {
        "id": "5k2IsNa9ZC4C"
      },
      "execution_count": null,
      "outputs": []
    },
    {
      "cell_type": "code",
      "source": [
        "# función de pérdida y derivada\n",
        "\n",
        "def softmax(x):\n",
        "    return torch.exp(x) / torch.exp(x).sum(axis=-1,keepdims=True)\n",
        "\n",
        "def cross_entropy(output, target):\n",
        "    logits = output[torch.arange(len(output)), target]\n",
        "    loss = - logits + torch.log(torch.sum(torch.exp(output), axis=-1))\n",
        "    loss = loss.mean()\n",
        "    return loss"
      ],
      "metadata": {
        "id": "zosW_2V2akfq"
      },
      "execution_count": null,
      "outputs": []
    },
    {
      "cell_type": "code",
      "source": [
        "# convertimos datos a tensores y copiamos en gpu\n",
        "X_t = torch.from_numpy(X_train).float().cuda()\n",
        "Y_t = torch.from_numpy(y_train_).long().cuda()"
      ],
      "metadata": {
        "id": "a1mvtp25bKKd"
      },
      "execution_count": null,
      "outputs": []
    },
    {
      "cell_type": "code",
      "source": [
        "from sklearn.metrics import accuracy_score\n",
        "\n",
        "def evaluate(x):\n",
        "    model.eval()\n",
        "    y_pred = model(x)\n",
        "    y_probas = softmax(y_pred)\n",
        "    return torch.argmax(y_probas, axis=1)"
      ],
      "metadata": {
        "id": "1XHtJ-kxbbFj"
      },
      "execution_count": null,
      "outputs": []
    },
    {
      "cell_type": "code",
      "source": [
        "model = Model(3072, 100, 10)\n",
        "outputs = model(torch.randn(64, 3072))\n",
        "outputs.shape"
      ],
      "metadata": {
        "colab": {
          "base_uri": "https://localhost:8080/"
        },
        "id": "HqnPxzUzZn9C",
        "outputId": "38d160d1-f4f9-48f0-8dd6-fd1eb4db0317"
      },
      "execution_count": null,
      "outputs": [
        {
          "output_type": "execute_result",
          "data": {
            "text/plain": [
              "torch.Size([64, 10])"
            ]
          },
          "metadata": {},
          "execution_count": 24
        }
      ]
    },
    {
      "cell_type": "code",
      "source": [
        "model.to(\"cuda\")\n",
        "criterion = torch.nn.CrossEntropyLoss()\n",
        "optimizer = torch.optim.SGD(model.parameters(), lr=0.01)\n",
        "\n",
        "epochs = 1000\n",
        "log_each = 100\n",
        "l = []\n",
        "model.train()\n",
        "for e in range(1, epochs+1): \n",
        "    \n",
        "    # forward\n",
        "    y_pred = model(X_t)\n",
        "\n",
        "    # loss\n",
        "    loss = criterion(y_pred, Y_t)\n",
        "    l.append(loss.item())\n",
        "    \n",
        "    # ponemos a cero los gradientes\n",
        "    optimizer.zero_grad()\n",
        "\n",
        "    # Backprop (calculamos todos los gradientes automáticamente)\n",
        "    loss.backward()\n",
        "\n",
        "    # update de los pesos\n",
        "    optimizer.step()\n",
        "    \n",
        "    if not e % log_each:\n",
        "        print(f\"Epoch {e}/{epochs} Loss {np.mean(l):.5f}\")\n",
        "        \n",
        "y_pred = evaluate(torch.from_numpy(X_test).float().cuda())\n",
        "accuracy_score(y_test_, y_pred.cpu().numpy())"
      ],
      "metadata": {
        "colab": {
          "base_uri": "https://localhost:8080/"
        },
        "id": "HHrI0-EgdaXm",
        "outputId": "33e0df8c-e685-4b67-c864-60640bd05be9"
      },
      "execution_count": null,
      "outputs": [
        {
          "output_type": "stream",
          "name": "stdout",
          "text": [
            "Epoch 10/1000 Loss 1.33747\n",
            "Epoch 20/1000 Loss 1.11447\n",
            "Epoch 30/1000 Loss 1.00327\n",
            "Epoch 40/1000 Loss 0.93197\n",
            "Epoch 50/1000 Loss 0.88049\n",
            "Epoch 60/1000 Loss 0.84076\n",
            "Epoch 70/1000 Loss 0.80878\n",
            "Epoch 80/1000 Loss 0.78228\n",
            "Epoch 90/1000 Loss 0.75984\n",
            "Epoch 100/1000 Loss 0.74051\n",
            "Epoch 110/1000 Loss 0.72363\n",
            "Epoch 120/1000 Loss 0.70872\n",
            "Epoch 130/1000 Loss 0.69543\n",
            "Epoch 140/1000 Loss 0.68350\n",
            "Epoch 150/1000 Loss 0.67274\n",
            "Epoch 160/1000 Loss 0.66364\n",
            "Epoch 170/1000 Loss 0.65776\n",
            "Epoch 180/1000 Loss 0.65172\n",
            "Epoch 190/1000 Loss 0.64521\n",
            "Epoch 200/1000 Loss 0.63885\n",
            "Epoch 210/1000 Loss 0.63277\n",
            "Epoch 220/1000 Loss 0.62699\n",
            "Epoch 230/1000 Loss 0.62149\n",
            "Epoch 240/1000 Loss 0.61627\n",
            "Epoch 250/1000 Loss 0.61131\n",
            "Epoch 260/1000 Loss 0.60657\n",
            "Epoch 270/1000 Loss 0.60205\n",
            "Epoch 280/1000 Loss 0.59773\n",
            "Epoch 290/1000 Loss 0.59361\n",
            "Epoch 300/1000 Loss 0.58965\n",
            "Epoch 310/1000 Loss 0.58586\n",
            "Epoch 320/1000 Loss 0.58221\n",
            "Epoch 330/1000 Loss 0.57869\n",
            "Epoch 340/1000 Loss 0.57531\n",
            "Epoch 350/1000 Loss 0.57204\n",
            "Epoch 360/1000 Loss 0.56887\n",
            "Epoch 370/1000 Loss 0.56580\n",
            "Epoch 380/1000 Loss 0.56282\n",
            "Epoch 390/1000 Loss 0.55995\n",
            "Epoch 400/1000 Loss 0.55716\n",
            "Epoch 410/1000 Loss 0.55447\n",
            "Epoch 420/1000 Loss 0.55185\n",
            "Epoch 430/1000 Loss 0.54931\n",
            "Epoch 440/1000 Loss 0.54683\n",
            "Epoch 450/1000 Loss 0.54441\n",
            "Epoch 460/1000 Loss 0.54205\n",
            "Epoch 470/1000 Loss 0.53974\n",
            "Epoch 480/1000 Loss 0.53750\n",
            "Epoch 490/1000 Loss 0.53530\n",
            "Epoch 500/1000 Loss 0.53315\n",
            "Epoch 510/1000 Loss 0.53105\n",
            "Epoch 520/1000 Loss 0.52900\n",
            "Epoch 530/1000 Loss 0.52699\n",
            "Epoch 540/1000 Loss 0.52502\n",
            "Epoch 550/1000 Loss 0.52309\n",
            "Epoch 560/1000 Loss 0.52119\n",
            "Epoch 570/1000 Loss 0.51934\n",
            "Epoch 580/1000 Loss 0.51753\n",
            "Epoch 590/1000 Loss 0.51575\n",
            "Epoch 600/1000 Loss 0.51401\n",
            "Epoch 610/1000 Loss 0.51230\n",
            "Epoch 620/1000 Loss 0.51062\n",
            "Epoch 630/1000 Loss 0.50897\n",
            "Epoch 640/1000 Loss 0.50735\n",
            "Epoch 650/1000 Loss 0.50576\n",
            "Epoch 660/1000 Loss 0.50420\n",
            "Epoch 670/1000 Loss 0.50267\n",
            "Epoch 680/1000 Loss 0.50116\n",
            "Epoch 690/1000 Loss 0.49967\n",
            "Epoch 700/1000 Loss 0.49820\n",
            "Epoch 710/1000 Loss 0.49676\n",
            "Epoch 720/1000 Loss 0.49534\n",
            "Epoch 730/1000 Loss 0.49395\n",
            "Epoch 740/1000 Loss 0.49257\n",
            "Epoch 750/1000 Loss 0.49122\n",
            "Epoch 760/1000 Loss 0.48989\n",
            "Epoch 770/1000 Loss 0.48857\n",
            "Epoch 780/1000 Loss 0.48728\n",
            "Epoch 790/1000 Loss 0.48600\n",
            "Epoch 800/1000 Loss 0.48474\n",
            "Epoch 810/1000 Loss 0.48349\n",
            "Epoch 820/1000 Loss 0.48226\n",
            "Epoch 830/1000 Loss 0.48105\n",
            "Epoch 840/1000 Loss 0.47985\n",
            "Epoch 850/1000 Loss 0.47868\n",
            "Epoch 860/1000 Loss 0.47751\n",
            "Epoch 870/1000 Loss 0.47637\n",
            "Epoch 880/1000 Loss 0.47523\n",
            "Epoch 890/1000 Loss 0.47411\n",
            "Epoch 900/1000 Loss 0.47301\n",
            "Epoch 910/1000 Loss 0.47192\n",
            "Epoch 920/1000 Loss 0.47084\n",
            "Epoch 930/1000 Loss 0.46977\n",
            "Epoch 940/1000 Loss 0.46872\n",
            "Epoch 950/1000 Loss 0.46768\n",
            "Epoch 960/1000 Loss 0.46665\n",
            "Epoch 970/1000 Loss 0.46563\n",
            "Epoch 980/1000 Loss 0.46463\n",
            "Epoch 990/1000 Loss 0.46364\n",
            "Epoch 1000/1000 Loss 0.46266\n"
          ]
        },
        {
          "output_type": "execute_result",
          "data": {
            "text/plain": [
              "0.9333333333333333"
            ]
          },
          "metadata": {},
          "execution_count": 25
        }
      ]
    },
    {
      "cell_type": "code",
      "source": [
        "y_pred\n"
      ],
      "metadata": {
        "colab": {
          "base_uri": "https://localhost:8080/"
        },
        "id": "C2QJArRHikjR",
        "outputId": "f733ad3f-1739-4ba5-ac60-8ef91f6f4597"
      },
      "execution_count": null,
      "outputs": [
        {
          "output_type": "execute_result",
          "data": {
            "text/plain": [
              "tensor([0, 0, 0, 0, 0, 0, 1, 0, 0, 0, 1, 1, 1, 1, 1, 1, 1, 1, 1, 1, 2, 1, 2, 2,\n",
              "        2, 2, 2, 2, 2, 2], device='cuda:0')"
            ]
          },
          "metadata": {},
          "execution_count": 26
        }
      ]
    },
    {
      "cell_type": "code",
      "source": [
        "y_test_"
      ],
      "metadata": {
        "colab": {
          "base_uri": "https://localhost:8080/"
        },
        "id": "cJHjFrLajDnv",
        "outputId": "396d9b79-4cc0-4c11-db54-d5edfae47050"
      },
      "execution_count": null,
      "outputs": [
        {
          "output_type": "execute_result",
          "data": {
            "text/plain": [
              "array([0, 0, 0, 0, 0, 0, 0, 0, 0, 0, 1, 1, 1, 1, 1, 1, 1, 1, 1, 1, 2, 2,\n",
              "       2, 2, 2, 2, 2, 2, 2, 2])"
            ]
          },
          "metadata": {},
          "execution_count": 27
        }
      ]
    }
  ]
}